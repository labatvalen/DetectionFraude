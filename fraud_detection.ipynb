{
  "cells": [
    {
      "cell_type": "markdown",
      "source": [
        "# Groupe 3 : Bechet Paul, Cassagne Manon, Labat Valentin, Mirval Mélodie"
      ],
      "metadata": {
        "id": "PlG1kpBuwC0-"
      }
    },
    {
      "cell_type": "code",
      "execution_count": null,
      "metadata": {
        "colab": {
          "base_uri": "https://localhost:8080/",
          "height": 17
        },
        "id": "lZC8DowywxM-",
        "outputId": "46f6b3f6-8a6f-486a-ea8c-4ee03428f783"
      },
      "outputs": [
        {
          "output_type": "display_data",
          "data": {
            "text/html": [
              "<style>.container { width:95% !important; }</style>"
            ],
            "text/plain": [
              "<IPython.core.display.HTML object>"
            ]
          },
          "metadata": {}
        }
      ],
      "source": [
        "import pandas as pd\n",
        "import warnings\n",
        "\n",
        "from IPython.core.display import display, HTML \n",
        "\n",
        "### options d'affichage\n",
        "%matplotlib inline\n",
        "%config InlineBackend.figure_format = 'retina'\n",
        "pd.set_option('display.max_rows', 100)\n",
        "pd.set_option('display.max_columns', 500)\n",
        "pd.set_option('display.width', 1000)\n",
        "\n",
        "display(HTML(\"<style>.container { width:95% !important; }</style>\")) #permet d'agrandir les cellules\n",
        "\n",
        "warnings.simplefilter(action='ignore', category=FutureWarning)"
      ]
    },
    {
      "cell_type": "markdown",
      "metadata": {
        "id": "DST5PP_GwxNA"
      },
      "source": [
        "# Objectifs\n",
        "\n",
        "Pour au maximum 0.5% d'anomalies signalées : détecter le maximum de fraude (taux de fraude parmi les anomalies signalées).\n",
        "\n",
        "\n",
        "# Import des données\n",
        "\n",
        "Description des données : echantillon de stransactions de cartes de crédit en Europe sur 2 jours.\n",
        "\n",
        "Variables : issues d'une transformations par Analyse en Composantes Principales (PCA), anonymisées pour des raisons de confidentialités."
      ]
    },
    {
      "cell_type": "markdown",
      "metadata": {
        "id": "Hrp-Nc_PwxNE"
      },
      "source": [
        "#### Base de données des opérations de cartes -> X, Y"
      ]
    },
    {
      "cell_type": "code",
      "execution_count": null,
      "metadata": {
        "colab": {
          "base_uri": "https://localhost:8080/"
        },
        "id": "jvnNK4VRwxNF",
        "outputId": "688e98f9-48ce-41f1-80ab-ae2815e10938"
      },
      "outputs": [
        {
          "output_type": "stream",
          "name": "stdout",
          "text": [
            "Drive already mounted at /content/drive; to attempt to forcibly remount, call drive.mount(\"/content/drive\", force_remount=True).\n",
            "/content/drive/My Drive\n",
            "/content/drive/My Drive\n",
            "Le nom du répertoire est : My Drive\n"
          ]
        }
      ],
      "source": [
        "from google.colab import drive \n",
        "drive.mount('/content/drive')\n",
        "%cd /content/drive/My\\ Drive/\n",
        "import os\n",
        "path = os.getcwd()\n",
        "print(path)\n",
        "repn = os.path.basename(path)\n",
        "print(\"Le nom du répertoire est : \" + repn)\n",
        "\n",
        "DATA_PATH = path+'/Projet 3 - Fraud detection/DATA/'\n",
        "\n",
        "op_carte = pd.read_csv(DATA_PATH+'fraude_carte_dataset.csv')\n",
        "target = 'fraude'"
      ]
    },
    {
      "cell_type": "code",
      "execution_count": null,
      "metadata": {
        "colab": {
          "base_uri": "https://localhost:8080/",
          "height": 268
        },
        "id": "bUG975THwxNF",
        "outputId": "c230d2fd-d5bb-4d6f-bbad-8f332db95c44"
      },
      "outputs": [
        {
          "output_type": "execute_result",
          "data": {
            "text/html": [
              "\n",
              "  <div id=\"df-9df92629-df38-4bce-a4aa-9598e8b6a967\">\n",
              "    <div class=\"colab-df-container\">\n",
              "      <div>\n",
              "<style scoped>\n",
              "    .dataframe tbody tr th:only-of-type {\n",
              "        vertical-align: middle;\n",
              "    }\n",
              "\n",
              "    .dataframe tbody tr th {\n",
              "        vertical-align: top;\n",
              "    }\n",
              "\n",
              "    .dataframe thead th {\n",
              "        text-align: right;\n",
              "    }\n",
              "</style>\n",
              "<table border=\"1\" class=\"dataframe\">\n",
              "  <thead>\n",
              "    <tr style=\"text-align: right;\">\n",
              "      <th></th>\n",
              "      <th>montant</th>\n",
              "      <th>fraude</th>\n",
              "      <th>V1</th>\n",
              "      <th>V2</th>\n",
              "      <th>V3</th>\n",
              "      <th>V4</th>\n",
              "      <th>V5</th>\n",
              "      <th>V6</th>\n",
              "      <th>V7</th>\n",
              "      <th>V8</th>\n",
              "      <th>V9</th>\n",
              "      <th>V10</th>\n",
              "      <th>V11</th>\n",
              "      <th>V12</th>\n",
              "      <th>V13</th>\n",
              "      <th>V14</th>\n",
              "      <th>V15</th>\n",
              "      <th>V16</th>\n",
              "      <th>V17</th>\n",
              "      <th>V18</th>\n",
              "      <th>V19</th>\n",
              "      <th>V20</th>\n",
              "      <th>V21</th>\n",
              "      <th>V22</th>\n",
              "      <th>V23</th>\n",
              "      <th>V24</th>\n",
              "      <th>V25</th>\n",
              "      <th>V26</th>\n",
              "      <th>V27</th>\n",
              "      <th>V28</th>\n",
              "    </tr>\n",
              "  </thead>\n",
              "  <tbody>\n",
              "    <tr>\n",
              "      <th>0</th>\n",
              "      <td>308.00</td>\n",
              "      <td>0</td>\n",
              "      <td>-4.667334</td>\n",
              "      <td>-5.187441</td>\n",
              "      <td>0.604266</td>\n",
              "      <td>-0.028343</td>\n",
              "      <td>2.244867</td>\n",
              "      <td>-0.474571</td>\n",
              "      <td>-1.688557</td>\n",
              "      <td>1.238095</td>\n",
              "      <td>0.706406</td>\n",
              "      <td>-1.358454</td>\n",
              "      <td>-1.169240</td>\n",
              "      <td>-0.058496</td>\n",
              "      <td>-1.451403</td>\n",
              "      <td>0.388620</td>\n",
              "      <td>-0.958128</td>\n",
              "      <td>0.766791</td>\n",
              "      <td>-0.407169</td>\n",
              "      <td>0.555079</td>\n",
              "      <td>0.264348</td>\n",
              "      <td>1.674186</td>\n",
              "      <td>0.411854</td>\n",
              "      <td>-0.969088</td>\n",
              "      <td>0.402915</td>\n",
              "      <td>-1.694552</td>\n",
              "      <td>0.007241</td>\n",
              "      <td>0.852860</td>\n",
              "      <td>-0.128717</td>\n",
              "      <td>-0.687596</td>\n",
              "    </tr>\n",
              "    <tr>\n",
              "      <th>1</th>\n",
              "      <td>60.50</td>\n",
              "      <td>0</td>\n",
              "      <td>-0.438869</td>\n",
              "      <td>1.056287</td>\n",
              "      <td>-0.801299</td>\n",
              "      <td>-0.328392</td>\n",
              "      <td>0.540826</td>\n",
              "      <td>-0.698487</td>\n",
              "      <td>0.773505</td>\n",
              "      <td>0.316953</td>\n",
              "      <td>-0.567920</td>\n",
              "      <td>-1.135592</td>\n",
              "      <td>0.565229</td>\n",
              "      <td>0.065585</td>\n",
              "      <td>-0.649158</td>\n",
              "      <td>-0.138078</td>\n",
              "      <td>0.082633</td>\n",
              "      <td>0.396204</td>\n",
              "      <td>0.322093</td>\n",
              "      <td>1.405653</td>\n",
              "      <td>0.267666</td>\n",
              "      <td>-0.094025</td>\n",
              "      <td>0.436785</td>\n",
              "      <td>1.100183</td>\n",
              "      <td>-0.122373</td>\n",
              "      <td>-0.547342</td>\n",
              "      <td>-0.451841</td>\n",
              "      <td>-0.148654</td>\n",
              "      <td>0.084169</td>\n",
              "      <td>0.162065</td>\n",
              "    </tr>\n",
              "    <tr>\n",
              "      <th>2</th>\n",
              "      <td>19.45</td>\n",
              "      <td>0</td>\n",
              "      <td>1.226028</td>\n",
              "      <td>0.086071</td>\n",
              "      <td>0.116272</td>\n",
              "      <td>0.041843</td>\n",
              "      <td>-0.387151</td>\n",
              "      <td>-1.081572</td>\n",
              "      <td>0.199786</td>\n",
              "      <td>-0.215388</td>\n",
              "      <td>-0.323449</td>\n",
              "      <td>0.050539</td>\n",
              "      <td>1.675848</td>\n",
              "      <td>1.068217</td>\n",
              "      <td>0.172115</td>\n",
              "      <td>0.538907</td>\n",
              "      <td>0.105433</td>\n",
              "      <td>0.166256</td>\n",
              "      <td>-0.397508</td>\n",
              "      <td>-0.234303</td>\n",
              "      <td>0.297383</td>\n",
              "      <td>-0.028091</td>\n",
              "      <td>-0.006165</td>\n",
              "      <td>-0.049895</td>\n",
              "      <td>-0.033645</td>\n",
              "      <td>0.614550</td>\n",
              "      <td>0.375668</td>\n",
              "      <td>0.976638</td>\n",
              "      <td>-0.105581</td>\n",
              "      <td>-0.009021</td>\n",
              "    </tr>\n",
              "    <tr>\n",
              "      <th>3</th>\n",
              "      <td>104.97</td>\n",
              "      <td>0</td>\n",
              "      <td>-1.147631</td>\n",
              "      <td>-0.157931</td>\n",
              "      <td>1.425395</td>\n",
              "      <td>0.054483</td>\n",
              "      <td>0.342307</td>\n",
              "      <td>-1.392831</td>\n",
              "      <td>0.654890</td>\n",
              "      <td>-0.083629</td>\n",
              "      <td>-0.606735</td>\n",
              "      <td>-0.487814</td>\n",
              "      <td>-0.540559</td>\n",
              "      <td>-1.056766</td>\n",
              "      <td>-1.761334</td>\n",
              "      <td>0.770819</td>\n",
              "      <td>1.311843</td>\n",
              "      <td>-0.178690</td>\n",
              "      <td>0.212307</td>\n",
              "      <td>-0.467027</td>\n",
              "      <td>1.167386</td>\n",
              "      <td>0.411067</td>\n",
              "      <td>-0.286517</td>\n",
              "      <td>-1.394336</td>\n",
              "      <td>0.330240</td>\n",
              "      <td>0.348368</td>\n",
              "      <td>-0.059860</td>\n",
              "      <td>0.758528</td>\n",
              "      <td>-0.116141</td>\n",
              "      <td>0.076342</td>\n",
              "    </tr>\n",
              "    <tr>\n",
              "      <th>4</th>\n",
              "      <td>54.85</td>\n",
              "      <td>0</td>\n",
              "      <td>1.241569</td>\n",
              "      <td>-0.925653</td>\n",
              "      <td>0.835590</td>\n",
              "      <td>-0.709157</td>\n",
              "      <td>-1.487871</td>\n",
              "      <td>-0.211127</td>\n",
              "      <td>-1.070227</td>\n",
              "      <td>0.160703</td>\n",
              "      <td>-0.539042</td>\n",
              "      <td>0.817164</td>\n",
              "      <td>0.691529</td>\n",
              "      <td>-0.163473</td>\n",
              "      <td>-0.714948</td>\n",
              "      <td>0.212741</td>\n",
              "      <td>0.755791</td>\n",
              "      <td>-0.460059</td>\n",
              "      <td>-0.549690</td>\n",
              "      <td>1.979115</td>\n",
              "      <td>-0.558923</td>\n",
              "      <td>-0.412824</td>\n",
              "      <td>-0.341439</td>\n",
              "      <td>-0.705344</td>\n",
              "      <td>0.087871</td>\n",
              "      <td>-0.004159</td>\n",
              "      <td>-0.119683</td>\n",
              "      <td>0.930542</td>\n",
              "      <td>-0.042786</td>\n",
              "      <td>0.015368</td>\n",
              "    </tr>\n",
              "  </tbody>\n",
              "</table>\n",
              "</div>\n",
              "      <button class=\"colab-df-convert\" onclick=\"convertToInteractive('df-9df92629-df38-4bce-a4aa-9598e8b6a967')\"\n",
              "              title=\"Convert this dataframe to an interactive table.\"\n",
              "              style=\"display:none;\">\n",
              "        \n",
              "  <svg xmlns=\"http://www.w3.org/2000/svg\" height=\"24px\"viewBox=\"0 0 24 24\"\n",
              "       width=\"24px\">\n",
              "    <path d=\"M0 0h24v24H0V0z\" fill=\"none\"/>\n",
              "    <path d=\"M18.56 5.44l.94 2.06.94-2.06 2.06-.94-2.06-.94-.94-2.06-.94 2.06-2.06.94zm-11 1L8.5 8.5l.94-2.06 2.06-.94-2.06-.94L8.5 2.5l-.94 2.06-2.06.94zm10 10l.94 2.06.94-2.06 2.06-.94-2.06-.94-.94-2.06-.94 2.06-2.06.94z\"/><path d=\"M17.41 7.96l-1.37-1.37c-.4-.4-.92-.59-1.43-.59-.52 0-1.04.2-1.43.59L10.3 9.45l-7.72 7.72c-.78.78-.78 2.05 0 2.83L4 21.41c.39.39.9.59 1.41.59.51 0 1.02-.2 1.41-.59l7.78-7.78 2.81-2.81c.8-.78.8-2.07 0-2.86zM5.41 20L4 18.59l7.72-7.72 1.47 1.35L5.41 20z\"/>\n",
              "  </svg>\n",
              "      </button>\n",
              "      \n",
              "  <style>\n",
              "    .colab-df-container {\n",
              "      display:flex;\n",
              "      flex-wrap:wrap;\n",
              "      gap: 12px;\n",
              "    }\n",
              "\n",
              "    .colab-df-convert {\n",
              "      background-color: #E8F0FE;\n",
              "      border: none;\n",
              "      border-radius: 50%;\n",
              "      cursor: pointer;\n",
              "      display: none;\n",
              "      fill: #1967D2;\n",
              "      height: 32px;\n",
              "      padding: 0 0 0 0;\n",
              "      width: 32px;\n",
              "    }\n",
              "\n",
              "    .colab-df-convert:hover {\n",
              "      background-color: #E2EBFA;\n",
              "      box-shadow: 0px 1px 2px rgba(60, 64, 67, 0.3), 0px 1px 3px 1px rgba(60, 64, 67, 0.15);\n",
              "      fill: #174EA6;\n",
              "    }\n",
              "\n",
              "    [theme=dark] .colab-df-convert {\n",
              "      background-color: #3B4455;\n",
              "      fill: #D2E3FC;\n",
              "    }\n",
              "\n",
              "    [theme=dark] .colab-df-convert:hover {\n",
              "      background-color: #434B5C;\n",
              "      box-shadow: 0px 1px 3px 1px rgba(0, 0, 0, 0.15);\n",
              "      filter: drop-shadow(0px 1px 2px rgba(0, 0, 0, 0.3));\n",
              "      fill: #FFFFFF;\n",
              "    }\n",
              "  </style>\n",
              "\n",
              "      <script>\n",
              "        const buttonEl =\n",
              "          document.querySelector('#df-9df92629-df38-4bce-a4aa-9598e8b6a967 button.colab-df-convert');\n",
              "        buttonEl.style.display =\n",
              "          google.colab.kernel.accessAllowed ? 'block' : 'none';\n",
              "\n",
              "        async function convertToInteractive(key) {\n",
              "          const element = document.querySelector('#df-9df92629-df38-4bce-a4aa-9598e8b6a967');\n",
              "          const dataTable =\n",
              "            await google.colab.kernel.invokeFunction('convertToInteractive',\n",
              "                                                     [key], {});\n",
              "          if (!dataTable) return;\n",
              "\n",
              "          const docLinkHtml = 'Like what you see? Visit the ' +\n",
              "            '<a target=\"_blank\" href=https://colab.research.google.com/notebooks/data_table.ipynb>data table notebook</a>'\n",
              "            + ' to learn more about interactive tables.';\n",
              "          element.innerHTML = '';\n",
              "          dataTable['output_type'] = 'display_data';\n",
              "          await google.colab.output.renderOutput(dataTable, element);\n",
              "          const docLink = document.createElement('div');\n",
              "          docLink.innerHTML = docLinkHtml;\n",
              "          element.appendChild(docLink);\n",
              "        }\n",
              "      </script>\n",
              "    </div>\n",
              "  </div>\n",
              "  "
            ],
            "text/plain": [
              "   montant  fraude        V1        V2        V3        V4        V5        V6        V7        V8        V9       V10       V11       V12       V13       V14       V15       V16       V17       V18       V19       V20       V21       V22       V23       V24       V25       V26       V27       V28\n",
              "0   308.00       0 -4.667334 -5.187441  0.604266 -0.028343  2.244867 -0.474571 -1.688557  1.238095  0.706406 -1.358454 -1.169240 -0.058496 -1.451403  0.388620 -0.958128  0.766791 -0.407169  0.555079  0.264348  1.674186  0.411854 -0.969088  0.402915 -1.694552  0.007241  0.852860 -0.128717 -0.687596\n",
              "1    60.50       0 -0.438869  1.056287 -0.801299 -0.328392  0.540826 -0.698487  0.773505  0.316953 -0.567920 -1.135592  0.565229  0.065585 -0.649158 -0.138078  0.082633  0.396204  0.322093  1.405653  0.267666 -0.094025  0.436785  1.100183 -0.122373 -0.547342 -0.451841 -0.148654  0.084169  0.162065\n",
              "2    19.45       0  1.226028  0.086071  0.116272  0.041843 -0.387151 -1.081572  0.199786 -0.215388 -0.323449  0.050539  1.675848  1.068217  0.172115  0.538907  0.105433  0.166256 -0.397508 -0.234303  0.297383 -0.028091 -0.006165 -0.049895 -0.033645  0.614550  0.375668  0.976638 -0.105581 -0.009021\n",
              "3   104.97       0 -1.147631 -0.157931  1.425395  0.054483  0.342307 -1.392831  0.654890 -0.083629 -0.606735 -0.487814 -0.540559 -1.056766 -1.761334  0.770819  1.311843 -0.178690  0.212307 -0.467027  1.167386  0.411067 -0.286517 -1.394336  0.330240  0.348368 -0.059860  0.758528 -0.116141  0.076342\n",
              "4    54.85       0  1.241569 -0.925653  0.835590 -0.709157 -1.487871 -0.211127 -1.070227  0.160703 -0.539042  0.817164  0.691529 -0.163473 -0.714948  0.212741  0.755791 -0.460059 -0.549690  1.979115 -0.558923 -0.412824 -0.341439 -0.705344  0.087871 -0.004159 -0.119683  0.930542 -0.042786  0.015368"
            ]
          },
          "metadata": {},
          "execution_count": 129
        }
      ],
      "source": [
        "op_carte.head()"
      ]
    },
    {
      "cell_type": "code",
      "execution_count": null,
      "metadata": {
        "colab": {
          "base_uri": "https://localhost:8080/"
        },
        "id": "NJeGtZtDwxNG",
        "outputId": "bf610cee-c6e0-4bfe-9e9c-9a3869d88d79"
      },
      "outputs": [
        {
          "output_type": "stream",
          "name": "stdout",
          "text": [
            "Nombre de fraudes    :       443, soit 0.17% du total\n",
            "Montant frauduleux   :  56051.72 €, soit 0.25% du total\n",
            "Montant moyen fraude :    126.53 €\n",
            "Montant moyen        :     88.39 €\n"
          ]
        }
      ],
      "source": [
        "print('Nombre de fraudes    : {:9.0f}, soit {:2.2%} du total'.format(op_carte[target].sum(),op_carte[target].mean()))\n",
        "print('Montant frauduleux   : {:9.2f} €, soit {:2.2%} du total'.format(op_carte.query(\"fraude==1\")['montant'].sum(), op_carte.query(\"fraude==1\")['montant'].sum()/op_carte['montant'].sum()))\n",
        "print('Montant moyen fraude : {:9.2f} €'.format(op_carte.query(\"fraude==1\")['montant'].mean()))\n",
        "print('Montant moyen        : {:9.2f} €'.format(op_carte['montant'].mean()))"
      ]
    },
    {
      "cell_type": "markdown",
      "metadata": {
        "id": "04Qve4mwwxNG"
      },
      "source": [
        "# Echantillonage pour pouvoir évaluer les performances du modèle"
      ]
    },
    {
      "cell_type": "code",
      "execution_count": null,
      "metadata": {
        "id": "4TUoxZ5ywxNH"
      },
      "outputs": [],
      "source": [
        "# Importation des fonctions scikit\n",
        "import sklearn\n",
        "from sklearn import preprocessing\n",
        "from sklearn.model_selection import StratifiedShuffleSplit\n",
        "from sklearn.preprocessing import MinMaxScaler"
      ]
    },
    {
      "cell_type": "code",
      "source": [
        "# Split du dataset en deux datasets, un train et un test\n",
        "op_carte_train, op_carte_test = sklearn.model_selection.train_test_split(op_carte, test_size=0.1, stratify=op_carte[\"fraude\"])\n",
        "\n",
        "print('Nombre de fraudes train    : {:9.0f}, soit {:2.2%} du total'.format(op_carte_train[\"fraude\"].sum(),op_carte_train[\"fraude\"].mean()))\n",
        "print('Nombre de fraudes test     : {:9.0f}, soit {:2.2%} du total'.format(op_carte_test[\"fraude\"].sum(),op_carte_test[\"fraude\"].mean()))\n",
        "print('Pourcentage fraudes train = Pourcentage fraudes test')\n",
        "print(\"Le modèle répartit donc correctement les données en proportions équivalentes\")"
      ],
      "metadata": {
        "colab": {
          "base_uri": "https://localhost:8080/"
        },
        "id": "GD9g2AxHFSP8",
        "outputId": "20518c10-8cb2-4b47-a3a8-db54b93def7d"
      },
      "execution_count": null,
      "outputs": [
        {
          "output_type": "stream",
          "name": "stdout",
          "text": [
            "Nombre de fraudes train    :       399, soit 0.17% du total\n",
            "Nombre de fraudes test     :        44, soit 0.17% du total\n",
            "Pourcentage fraudes train = Pourcentage fraudes test\n",
            "Le modèle répartit donc correctement les données en proportions équivalentes\n"
          ]
        }
      ]
    },
    {
      "cell_type": "code",
      "source": [
        "# Création de la liste des indices de X\n",
        "tabstr = [\"montant\"]\n",
        "for i in range (1, 29):\n",
        "  tabstr.append(\"V\" + str(i))"
      ],
      "metadata": {
        "id": "-Rjif2z_Ha37"
      },
      "execution_count": null,
      "outputs": []
    },
    {
      "cell_type": "code",
      "source": [
        "# Création des X et Y train et test\n",
        "op_carte_train_fraude = op_carte_train[op_carte_train['fraude'] == 1]\n",
        "op_carte_train_non_fraude = op_carte_train[op_carte_train['fraude'] == 0]\n",
        "\n",
        "X_train_fraude = op_carte_train_fraude[tabstr]\n",
        "Y_train_fraude = op_carte_train_fraude[\"fraude\"]\n",
        "X_train_non_fraude = op_carte_train_non_fraude[tabstr]\n",
        "Y_train_non_fraude = op_carte_train_non_fraude[\"fraude\"]\n",
        "\n",
        "X_test = op_carte_test[tabstr]\n",
        "Y_test = op_carte_test[\"fraude\"]"
      ],
      "metadata": {
        "id": "73RM7U36HSYK"
      },
      "execution_count": null,
      "outputs": []
    },
    {
      "cell_type": "markdown",
      "metadata": {
        "id": "NKolgHM7wxNH"
      },
      "source": [
        "# Processing des échantillons \n",
        "indice : Normalisation + distinction entre fraudes et non fraudes"
      ]
    },
    {
      "cell_type": "code",
      "execution_count": null,
      "metadata": {
        "id": "G7Y_qFBKwxNH",
        "colab": {
          "base_uri": "https://localhost:8080/"
        },
        "outputId": "4679b41e-4379-488a-a483-b381a8e73182"
      },
      "outputs": [
        {
          "output_type": "stream",
          "name": "stdout",
          "text": [
            "Il y a  29  variables explicatives.\n",
            "\n",
            "Le X test normalisé devient: \n",
            " [[7.97292299e-03 9.31398280e-01 8.09766316e-01 ... 3.72159381e-01\n",
            "  6.63923844e-01 2.56212596e-01]\n",
            " [1.01238621e-03 9.43613396e-01 7.97662841e-01 ... 4.97165809e-01\n",
            "  6.36388212e-01 2.49890720e-01]\n",
            " [9.05551488e-05 9.49564763e-01 8.03783836e-01 ... 4.41133504e-01\n",
            "  6.57917930e-01 2.59434837e-01]\n",
            " ...\n",
            " [5.88099731e-04 9.95356838e-01 7.94022267e-01 ... 4.80299941e-01\n",
            "  6.47380261e-01 2.55075563e-01]\n",
            " [1.77549140e-03 9.41721884e-01 8.07687842e-01 ... 3.03591517e-01\n",
            "  6.40416919e-01 2.53621084e-01]\n",
            " [3.48184547e-02 8.84983003e-01 7.82356807e-01 ... 5.57812519e-01\n",
            "  6.71148806e-01 2.27918380e-01]]\n"
          ]
        }
      ],
      "source": [
        "# Normalisation de la donnee\n",
        "scaler = MinMaxScaler()\n",
        "X_train_non_fraude_scaled = scaler.fit_transform(X_train_non_fraude)\n",
        "X_test_scaled = scaler.transform(X_test)\n",
        "\n",
        "nombre_variables_X = X_test_scaled.shape[1]\n",
        "print(\"Il y a \", nombre_variables_X, \" variables explicatives.\\n\")\n",
        "\n",
        "print(\"Le X test normalisé devient: \\n\", X_test_scaled)"
      ]
    },
    {
      "cell_type": "markdown",
      "metadata": {
        "id": "9t4o6xC9wxNI"
      },
      "source": [
        "# Modélisation par autoencoder\n",
        "aussi possible isolationForest"
      ]
    },
    {
      "cell_type": "markdown",
      "metadata": {
        "id": "X_RbJr2SwxNI"
      },
      "source": [
        "##### Définition et initialisation du modèle"
      ]
    },
    {
      "cell_type": "code",
      "execution_count": null,
      "metadata": {
        "id": "jjjoRrj3wxNI"
      },
      "outputs": [],
      "source": [
        "import tensorflow as tf\n",
        "import tensorflow.keras.layers as tfl\n",
        "\n",
        "from tensorflow.keras.optimizers import Adam\n",
        "from tensorflow.keras.models import Model\n",
        "\n",
        "class Autoencoder(Model):\n",
        "    \n",
        "    def __init__(self, encoder_param_list, decoder_param_list):\n",
        "        \n",
        "        # initialisation en tant que Model keras\n",
        "        super(Autoencoder, self).__init__()\n",
        "\n",
        "        # couche entrée + encodeur \n",
        "        self.encoder_param_list = encoder_param_list\n",
        "        self.encoder = tf.keras.Sequential(self.encoder_param_list)\n",
        "        \n",
        "        # couche décodeur + sortie\n",
        "        self.decoder_param_list = decoder_param_list\n",
        "        self.decoder = tf.keras.Sequential(self.decoder_param_list)\n",
        "\n",
        "    def call(self, x):\n",
        "        \n",
        "        encoded = self.encoder(x)\n",
        "        decoded = self.decoder(encoded)\n",
        "        \n",
        "        return decoded"
      ]
    },
    {
      "cell_type": "code",
      "execution_count": null,
      "metadata": {
        "id": "VlCg53-xwxNJ"
      },
      "outputs": [],
      "source": [
        "# Tableau\n",
        "tab_val=[nombre_variables_X, 20, 17, 14, 11]\n",
        "\n",
        "# initialisation des couches du réseau de neurone\n",
        "# Première ligne = codage, deuxième=décodage\n",
        "autoencoder = Autoencoder([\n",
        "        tfl.Dense(tab_val[0], activation=\"relu\"), # nombre de neurones = nombre de features (input = x)\n",
        "        tfl.BatchNormalization(),\n",
        "        tfl.Dense(tab_val[1], activation=\"relu\"),\n",
        "        tfl.BatchNormalization(),\n",
        "        tfl.Dense(tab_val[2], activation=\"relu\"),\n",
        "        tfl.BatchNormalization(),\n",
        "        tfl.Dense(tab_val[3], activation=\"relu\"),\n",
        "        tfl.BatchNormalization(),\n",
        "        tfl.Dense(tab_val[4], activation=\"relu\")\n",
        "    ], [\n",
        "      tfl.Dense(tab_val[4], activation=\"relu\"),\n",
        "      tfl.BatchNormalization(),\n",
        "      tfl.Dense(tab_val[3], activation=\"relu\"),\n",
        "      tfl.BatchNormalization(),\n",
        "      tfl.Dense(tab_val[2], activation=\"relu\"),\n",
        "      tfl.BatchNormalization(),\n",
        "      tfl.Dense(tab_val[1], activation=\"relu\"),\n",
        "      tfl.BatchNormalization(),\n",
        "      tfl.Dense(tab_val[0], activation='linear') # nombre de neurones = nombre de features (output = x)\n",
        "])\n",
        "\n",
        "\n",
        "# définition de l'optimizer\n",
        "learning_rate = 3e-4 # learning rate\n",
        "loss = tf.keras.losses.MSE # définition de la fonction de perte\n",
        "optimizer = Adam(learning_rate=learning_rate)\n",
        "autoencoder.compile(optimizer=optimizer, loss=loss)"
      ]
    },
    {
      "cell_type": "code",
      "execution_count": null,
      "metadata": {
        "id": "5w_OC9LGwxNJ",
        "colab": {
          "base_uri": "https://localhost:8080/"
        },
        "outputId": "4849447b-ac40-4b2f-f244-9024885c4f53"
      },
      "outputs": [
        {
          "output_type": "stream",
          "name": "stdout",
          "text": [
            "Epoch 1/15\n",
            "1260/1260 [==============================] - 8s 4ms/step - loss: 0.1882 - val_loss: 0.0074\n",
            "Epoch 2/15\n",
            "1260/1260 [==============================] - 6s 5ms/step - loss: 0.0045 - val_loss: 0.0032\n",
            "Epoch 3/15\n",
            "1260/1260 [==============================] - 6s 5ms/step - loss: 0.0027 - val_loss: 0.0024\n",
            "Epoch 4/15\n",
            "1260/1260 [==============================] - 5s 4ms/step - loss: 0.0023 - val_loss: 0.0022\n",
            "Epoch 5/15\n",
            "1260/1260 [==============================] - 6s 5ms/step - loss: 0.0022 - val_loss: 0.0021\n",
            "Epoch 6/15\n",
            "1260/1260 [==============================] - 5s 4ms/step - loss: 0.0021 - val_loss: 0.0020\n",
            "Epoch 7/15\n",
            "1260/1260 [==============================] - 5s 4ms/step - loss: 0.0020 - val_loss: 0.0020\n",
            "Epoch 8/15\n",
            "1260/1260 [==============================] - 5s 4ms/step - loss: 0.0019 - val_loss: 0.0018\n",
            "Epoch 9/15\n",
            "1260/1260 [==============================] - 5s 4ms/step - loss: 0.0018 - val_loss: 0.0017\n",
            "Epoch 10/15\n",
            "1260/1260 [==============================] - 5s 4ms/step - loss: 0.0017 - val_loss: 0.0016\n",
            "Epoch 11/15\n",
            "1260/1260 [==============================] - 6s 5ms/step - loss: 0.0016 - val_loss: 0.0015\n",
            "Epoch 12/15\n",
            "1260/1260 [==============================] - 6s 5ms/step - loss: 0.0015 - val_loss: 0.0015\n",
            "Epoch 13/15\n",
            "1260/1260 [==============================] - 6s 5ms/step - loss: 0.0014 - val_loss: 0.0014\n",
            "Epoch 14/15\n",
            "1260/1260 [==============================] - 6s 5ms/step - loss: 0.0014 - val_loss: 0.0013\n",
            "Epoch 15/15\n",
            "1260/1260 [==============================] - 5s 4ms/step - loss: 0.0013 - val_loss: 0.0012\n"
          ]
        }
      ],
      "source": [
        "# fit du modèle\n",
        "epochs = 15\n",
        "history = autoencoder.fit(\n",
        "    x=X_train_non_fraude_scaled, y=X_train_non_fraude_scaled, \n",
        "    epochs=epochs, \n",
        "    batch_size=128,\n",
        "    validation_split=0.3,\n",
        "    shuffle=True)"
      ]
    },
    {
      "cell_type": "code",
      "source": [
        "print(\"La loss de la fonction diminue bien au fur et à mesure.\")"
      ],
      "metadata": {
        "colab": {
          "base_uri": "https://localhost:8080/"
        },
        "id": "6kH-Ct22E076",
        "outputId": "c50f9d14-80ac-42da-e65d-511e791b7c04"
      },
      "execution_count": null,
      "outputs": [
        {
          "output_type": "stream",
          "name": "stdout",
          "text": [
            "La loss de la fonction diminue bien au fur et à mesure.\n"
          ]
        }
      ]
    },
    {
      "cell_type": "code",
      "source": [
        "import matplotlib.pyplot as plt\n",
        "\n",
        "plt.plot(history.history['loss'])\n",
        "plt.plot(history.history['val_loss'])\n",
        "plt.title('Model Loss')\n",
        "plt.ylabel('Loss')\n",
        "plt.xlabel('Epoch')\n",
        "plt.legend(['Train', 'Test'], loc='upper left')\n",
        "plt.show()"
      ],
      "metadata": {
        "id": "yRIaGavKtFAa",
        "colab": {
          "base_uri": "https://localhost:8080/",
          "height": 294
        },
        "outputId": "c2307b9d-e706-4f06-ef12-43aaca2f4548"
      },
      "execution_count": null,
      "outputs": [
        {
          "output_type": "display_data",
          "data": {
            "image/png": "[encoded data removed]",
            "text/plain": [
              "<Figure size 432x288 with 1 Axes>"
            ]
          },
          "metadata": {
            "image/png": {
              "width": 398,
              "height": 277
            },
            "needs_background": "light"
          }
        }
      ]
    },
    {
      "cell_type": "markdown",
      "metadata": {
        "id": "N_N9sV1dwxNJ"
      },
      "source": [
        "# Évaluation des performances"
      ]
    },
    {
      "cell_type": "code",
      "source": [
        "import numpy as np\n",
        "\n",
        "# MSE entre predict et train\n",
        "score = tf.keras.losses.MSE(X_train_non_fraude_scaled, autoencoder.predict(X_train_non_fraude_scaled))\n",
        "seuil = np.quantile(score, 0.995)\n",
        "print(\"Seuil à partir duquel les opérations sont considérées comme frauduleuses\", seuil)"
      ],
      "metadata": {
        "id": "ScGgBiOv7ybr",
        "colab": {
          "base_uri": "https://localhost:8080/"
        },
        "outputId": "1285dddf-5217-4c65-8ad9-33b936c597a4"
      },
      "execution_count": null,
      "outputs": [
        {
          "output_type": "stream",
          "name": "stdout",
          "text": [
            "Seuil à partir duquel les opérations sont considérées comme frauduleuses 0.007153676880989226\n"
          ]
        }
      ]
    },
    {
      "cell_type": "code",
      "source": [
        "# MSE entre predict et test\n",
        "score_test = tf.keras.losses.MSE(X_test_scaled, autoencoder.predict(X_test_scaled))\n",
        "\n",
        "is_fraude = score_test > seuil\n",
        "fraudes_detectees_modele = np.sum(is_fraude == True)\n",
        "nombre_donnees_test = X_test_scaled.shape[0]\n",
        "\n",
        "print('Nombre de fraudes détectées par le modèle : ', fraudes_detectees_modele)\n",
        "print('Nombre total de données : ', nombre_donnees_test)\n",
        "print('Nombre de fraudes réelles dans le jeu de données : ', Y_test.sum())\n",
        "proportion = fraudes_detectees_modele / nombre_donnees_test * 100\n",
        "print('On voit que trop de fraudes sont détectées, cependant cela représente une proportion minime de toutes les données,\\n avec ', proportion, \"%\")\n",
        "print(\"Il faut maintenant regarder si les données détectées comme fraudes le sont réellement\")"
      ],
      "metadata": {
        "id": "hbwTSjTdwK0D",
        "colab": {
          "base_uri": "https://localhost:8080/"
        },
        "outputId": "b0542234-fdb4-4f57-ce81-a970dac1b65f"
      },
      "execution_count": null,
      "outputs": [
        {
          "output_type": "stream",
          "name": "stdout",
          "text": [
            "Nombre de fraudes détectées par le modèle :  171\n",
            "Nombre total de données :  25633\n",
            "Nombre de fraudes réelles dans le jeu de données :  44\n",
            "On voit que trop de fraudes sont détectées, cependant cela représente une proportion minime de toutes les données,\n",
            " avec  0.6671088050559825 %\n",
            "Il faut maintenant regarder si les données détectées comme fraudes le sont réellement\n"
          ]
        }
      ]
    },
    {
      "cell_type": "code",
      "source": [
        "# Calcul des fraudes bien détectées\n",
        "calcul_part_fraudes_justes = np.array(Y_test)[is_fraude].sum()/Y_test.sum() * 100\n",
        "print('Part des fraudes détectées à raison : ', calcul_part_fraudes_justes, \"%\")\n",
        "print('Pour ces paramètres, nous avons au maximum trouvé un résultat à plus de 86%. \\n Celui-ci varie en général entre 70 et 86%. \\n Ici, nous avons 77,27%, ce qui est très intéressant\\n Le modèle détecte donc une grande majorité des fraudes')"
      ],
      "metadata": {
        "id": "bx1ZNfoE2U06",
        "colab": {
          "base_uri": "https://localhost:8080/"
        },
        "outputId": "393aa499-574f-4208-d41b-42397f67cd85"
      },
      "execution_count": null,
      "outputs": [
        {
          "output_type": "stream",
          "name": "stdout",
          "text": [
            "Part des fraudes détectées à raison :  77.27272727272727 %\n",
            "Pour ces paramètres, nous avons au maximum trouvé un résultat à plus de 86%. \n",
            " Celui-ci varie en général entre 70 et 86%. \n",
            " Ici, nous avons 77,27%, ce qui est très intéressant\n",
            " Le modèle détecte donc une grande majorité des fraudes\n"
          ]
        }
      ]
    },
    {
      "cell_type": "code",
      "source": [
        "from matplotlib import pyplot as plt\n",
        "indexes = list(Y_test.to_frame().query(\"fraude==1\").index)\n",
        "\n",
        "liste_Y = list(Y_test)\n",
        "\n",
        "tab = []\n",
        "for i in range(len(liste_Y)):\n",
        "  if (liste_Y[i] == 1):\n",
        "    tab.append(i)\n",
        "\n",
        "plt.plot([score_test[i] for i in tab], label=\"Fraudes effectives\")\n",
        "plt.axhline(seuil, color=\"red\", label=\"Seuil\")\n",
        "plt.legend()\n",
        "plt.show()\n",
        "print(\"Les fraudes en dessous de la ligne rouge sont celles qui n'ont pas été détectées\")\n",
        "print(\"On voit que, pour la grande majorité d'entre elles, elles sont très proches de 0\")\n",
        "print(\"Une diminution de seuil ne serait alors pas très utile, car en le diminuant autant,\\non détecterait beaucoup de fraudes dans les opérations non frauduleuses\")"
      ],
      "metadata": {
        "colab": {
          "base_uri": "https://localhost:8080/",
          "height": 333
        },
        "id": "wNTzKbCxJC7J",
        "outputId": "0da43df8-a08c-4caf-b939-6eb64d4322ec"
      },
      "execution_count": null,
      "outputs": [
        {
          "output_type": "display_data",
          "data": {
            "image/png": "[encoded data removed]",
            "text/plain": [
              "<Figure size 432x288 with 1 Axes>"
            ]
          },
          "metadata": {
            "image/png": {
              "width": 378,
              "height": 248
            },
            "needs_background": "light"
          }
        },
        {
          "output_type": "stream",
          "name": "stdout",
          "text": [
            "Les fraudes en dessous de la ligne rouge sont celles qui n'ont pas été détectées\n",
            "On voit que, pour la grande majorité d'entre elles, elles sont très proches de 0\n",
            "Une diminution de seuil ne serait alors pas très utile, car en le diminuant autant,\n",
            "on détecterait beaucoup de fraudes dans les opérations non frauduleuses\n"
          ]
        }
      ]
    },
    {
      "cell_type": "markdown",
      "metadata": {
        "id": "bAh97CeAwxNK"
      },
      "source": [
        "# Rendu : application sur de nouvelles opérations de carte\n",
        "###### Attention ne pas mélanger les index pour le rendu"
      ]
    },
    {
      "cell_type": "code",
      "execution_count": null,
      "metadata": {
        "id": "MvbLbBTzwxNK"
      },
      "outputs": [],
      "source": [
        "testset = pd.read_csv(DATA_PATH+'nouvelle_operation_carte.csv')"
      ]
    },
    {
      "cell_type": "code",
      "execution_count": null,
      "metadata": {
        "id": "OF4--pGCwxNL",
        "colab": {
          "base_uri": "https://localhost:8080/",
          "height": 268
        },
        "outputId": "be38ed4c-2457-4ce5-a5b5-6be9d1a194f5"
      },
      "outputs": [
        {
          "output_type": "execute_result",
          "data": {
            "text/html": [
              "\n",
              "  <div id=\"df-f8b38e66-e41a-48e4-a4c1-51dc79f1235d\">\n",
              "    <div class=\"colab-df-container\">\n",
              "      <div>\n",
              "<style scoped>\n",
              "    .dataframe tbody tr th:only-of-type {\n",
              "        vertical-align: middle;\n",
              "    }\n",
              "\n",
              "    .dataframe tbody tr th {\n",
              "        vertical-align: top;\n",
              "    }\n",
              "\n",
              "    .dataframe thead th {\n",
              "        text-align: right;\n",
              "    }\n",
              "</style>\n",
              "<table border=\"1\" class=\"dataframe\">\n",
              "  <thead>\n",
              "    <tr style=\"text-align: right;\">\n",
              "      <th></th>\n",
              "      <th>montant</th>\n",
              "      <th>V1</th>\n",
              "      <th>V2</th>\n",
              "      <th>V3</th>\n",
              "      <th>V4</th>\n",
              "      <th>V5</th>\n",
              "      <th>V6</th>\n",
              "      <th>V7</th>\n",
              "      <th>V8</th>\n",
              "      <th>V9</th>\n",
              "      <th>V10</th>\n",
              "      <th>V11</th>\n",
              "      <th>V12</th>\n",
              "      <th>V13</th>\n",
              "      <th>V14</th>\n",
              "      <th>V15</th>\n",
              "      <th>V16</th>\n",
              "      <th>V17</th>\n",
              "      <th>V18</th>\n",
              "      <th>V19</th>\n",
              "      <th>V20</th>\n",
              "      <th>V21</th>\n",
              "      <th>V22</th>\n",
              "      <th>V23</th>\n",
              "      <th>V24</th>\n",
              "      <th>V25</th>\n",
              "      <th>V26</th>\n",
              "      <th>V27</th>\n",
              "      <th>V28</th>\n",
              "    </tr>\n",
              "  </thead>\n",
              "  <tbody>\n",
              "    <tr>\n",
              "      <th>0</th>\n",
              "      <td>11.74</td>\n",
              "      <td>-0.160291</td>\n",
              "      <td>0.719554</td>\n",
              "      <td>-0.175820</td>\n",
              "      <td>0.092895</td>\n",
              "      <td>1.921963</td>\n",
              "      <td>-0.959215</td>\n",
              "      <td>1.575203</td>\n",
              "      <td>-0.475203</td>\n",
              "      <td>-1.056475</td>\n",
              "      <td>0.018977</td>\n",
              "      <td>0.668056</td>\n",
              "      <td>0.623444</td>\n",
              "      <td>0.250816</td>\n",
              "      <td>0.578553</td>\n",
              "      <td>-0.910825</td>\n",
              "      <td>-0.265297</td>\n",
              "      <td>-0.996237</td>\n",
              "      <td>0.145621</td>\n",
              "      <td>-0.253985</td>\n",
              "      <td>-0.005258</td>\n",
              "      <td>0.211840</td>\n",
              "      <td>0.694953</td>\n",
              "      <td>-0.344278</td>\n",
              "      <td>-0.387714</td>\n",
              "      <td>0.379300</td>\n",
              "      <td>-0.562998</td>\n",
              "      <td>-0.141264</td>\n",
              "      <td>-0.193787</td>\n",
              "    </tr>\n",
              "    <tr>\n",
              "      <th>1</th>\n",
              "      <td>0.76</td>\n",
              "      <td>-4.985269</td>\n",
              "      <td>5.034234</td>\n",
              "      <td>-2.823307</td>\n",
              "      <td>2.391830</td>\n",
              "      <td>0.785421</td>\n",
              "      <td>2.062412</td>\n",
              "      <td>-4.029547</td>\n",
              "      <td>-12.755012</td>\n",
              "      <td>-2.319156</td>\n",
              "      <td>0.707228</td>\n",
              "      <td>-1.577851</td>\n",
              "      <td>1.128587</td>\n",
              "      <td>0.137280</td>\n",
              "      <td>1.869368</td>\n",
              "      <td>-1.567146</td>\n",
              "      <td>1.033760</td>\n",
              "      <td>-0.184925</td>\n",
              "      <td>-0.504539</td>\n",
              "      <td>-2.458706</td>\n",
              "      <td>1.777009</td>\n",
              "      <td>-2.657041</td>\n",
              "      <td>1.706531</td>\n",
              "      <td>1.288181</td>\n",
              "      <td>0.496029</td>\n",
              "      <td>-0.453828</td>\n",
              "      <td>-0.222623</td>\n",
              "      <td>-1.005641</td>\n",
              "      <td>-0.522457</td>\n",
              "    </tr>\n",
              "    <tr>\n",
              "      <th>2</th>\n",
              "      <td>2.68</td>\n",
              "      <td>2.031150</td>\n",
              "      <td>-0.200373</td>\n",
              "      <td>-1.206788</td>\n",
              "      <td>0.227156</td>\n",
              "      <td>0.007489</td>\n",
              "      <td>-0.641813</td>\n",
              "      <td>-0.012706</td>\n",
              "      <td>-0.079257</td>\n",
              "      <td>0.467886</td>\n",
              "      <td>0.265772</td>\n",
              "      <td>0.528194</td>\n",
              "      <td>0.458737</td>\n",
              "      <td>-1.057644</td>\n",
              "      <td>0.675252</td>\n",
              "      <td>-0.469253</td>\n",
              "      <td>0.179725</td>\n",
              "      <td>-0.539504</td>\n",
              "      <td>-0.222000</td>\n",
              "      <td>0.494652</td>\n",
              "      <td>-0.277039</td>\n",
              "      <td>-0.265289</td>\n",
              "      <td>-0.713294</td>\n",
              "      <td>0.306200</td>\n",
              "      <td>-0.425340</td>\n",
              "      <td>-0.336949</td>\n",
              "      <td>0.207533</td>\n",
              "      <td>-0.079106</td>\n",
              "      <td>-0.076194</td>\n",
              "    </tr>\n",
              "    <tr>\n",
              "      <th>3</th>\n",
              "      <td>1.78</td>\n",
              "      <td>-0.182122</td>\n",
              "      <td>0.815268</td>\n",
              "      <td>0.255585</td>\n",
              "      <td>-0.580498</td>\n",
              "      <td>0.530306</td>\n",
              "      <td>-1.078000</td>\n",
              "      <td>0.983743</td>\n",
              "      <td>-0.235750</td>\n",
              "      <td>-0.020917</td>\n",
              "      <td>-0.313036</td>\n",
              "      <td>-0.809413</td>\n",
              "      <td>0.338677</td>\n",
              "      <td>0.354422</td>\n",
              "      <td>0.011465</td>\n",
              "      <td>-0.378042</td>\n",
              "      <td>-0.175447</td>\n",
              "      <td>-0.381779</td>\n",
              "      <td>-0.882839</td>\n",
              "      <td>-0.143792</td>\n",
              "      <td>-0.058797</td>\n",
              "      <td>-0.242450</td>\n",
              "      <td>-0.509106</td>\n",
              "      <td>0.189365</td>\n",
              "      <td>-0.013782</td>\n",
              "      <td>-0.476530</td>\n",
              "      <td>0.134255</td>\n",
              "      <td>0.133186</td>\n",
              "      <td>0.081669</td>\n",
              "    </tr>\n",
              "    <tr>\n",
              "      <th>4</th>\n",
              "      <td>104.00</td>\n",
              "      <td>-1.936753</td>\n",
              "      <td>-0.935021</td>\n",
              "      <td>0.450311</td>\n",
              "      <td>-0.548420</td>\n",
              "      <td>0.665697</td>\n",
              "      <td>-1.292993</td>\n",
              "      <td>0.073156</td>\n",
              "      <td>0.434151</td>\n",
              "      <td>-2.039832</td>\n",
              "      <td>0.001525</td>\n",
              "      <td>0.286682</td>\n",
              "      <td>0.150162</td>\n",
              "      <td>-0.542061</td>\n",
              "      <td>0.993127</td>\n",
              "      <td>-0.885168</td>\n",
              "      <td>-0.847956</td>\n",
              "      <td>-0.594685</td>\n",
              "      <td>1.544665</td>\n",
              "      <td>-1.370550</td>\n",
              "      <td>-0.134499</td>\n",
              "      <td>-0.331726</td>\n",
              "      <td>-1.470149</td>\n",
              "      <td>0.257444</td>\n",
              "      <td>-0.122364</td>\n",
              "      <td>-0.186145</td>\n",
              "      <td>-0.926443</td>\n",
              "      <td>-0.023222</td>\n",
              "      <td>-0.155817</td>\n",
              "    </tr>\n",
              "  </tbody>\n",
              "</table>\n",
              "</div>\n",
              "      <button class=\"colab-df-convert\" onclick=\"convertToInteractive('df-f8b38e66-e41a-48e4-a4c1-51dc79f1235d')\"\n",
              "              title=\"Convert this dataframe to an interactive table.\"\n",
              "              style=\"display:none;\">\n",
              "        \n",
              "  <svg xmlns=\"http://www.w3.org/2000/svg\" height=\"24px\"viewBox=\"0 0 24 24\"\n",
              "       width=\"24px\">\n",
              "    <path d=\"M0 0h24v24H0V0z\" fill=\"none\"/>\n",
              "    <path d=\"M18.56 5.44l.94 2.06.94-2.06 2.06-.94-2.06-.94-.94-2.06-.94 2.06-2.06.94zm-11 1L8.5 8.5l.94-2.06 2.06-.94-2.06-.94L8.5 2.5l-.94 2.06-2.06.94zm10 10l.94 2.06.94-2.06 2.06-.94-2.06-.94-.94-2.06-.94 2.06-2.06.94z\"/><path d=\"M17.41 7.96l-1.37-1.37c-.4-.4-.92-.59-1.43-.59-.52 0-1.04.2-1.43.59L10.3 9.45l-7.72 7.72c-.78.78-.78 2.05 0 2.83L4 21.41c.39.39.9.59 1.41.59.51 0 1.02-.2 1.41-.59l7.78-7.78 2.81-2.81c.8-.78.8-2.07 0-2.86zM5.41 20L4 18.59l7.72-7.72 1.47 1.35L5.41 20z\"/>\n",
              "  </svg>\n",
              "      </button>\n",
              "      \n",
              "  <style>\n",
              "    .colab-df-container {\n",
              "      display:flex;\n",
              "      flex-wrap:wrap;\n",
              "      gap: 12px;\n",
              "    }\n",
              "\n",
              "    .colab-df-convert {\n",
              "      background-color: #E8F0FE;\n",
              "      border: none;\n",
              "      border-radius: 50%;\n",
              "      cursor: pointer;\n",
              "      display: none;\n",
              "      fill: #1967D2;\n",
              "      height: 32px;\n",
              "      padding: 0 0 0 0;\n",
              "      width: 32px;\n",
              "    }\n",
              "\n",
              "    .colab-df-convert:hover {\n",
              "      background-color: #E2EBFA;\n",
              "      box-shadow: 0px 1px 2px rgba(60, 64, 67, 0.3), 0px 1px 3px 1px rgba(60, 64, 67, 0.15);\n",
              "      fill: #174EA6;\n",
              "    }\n",
              "\n",
              "    [theme=dark] .colab-df-convert {\n",
              "      background-color: #3B4455;\n",
              "      fill: #D2E3FC;\n",
              "    }\n",
              "\n",
              "    [theme=dark] .colab-df-convert:hover {\n",
              "      background-color: #434B5C;\n",
              "      box-shadow: 0px 1px 3px 1px rgba(0, 0, 0, 0.15);\n",
              "      filter: drop-shadow(0px 1px 2px rgba(0, 0, 0, 0.3));\n",
              "      fill: #FFFFFF;\n",
              "    }\n",
              "  </style>\n",
              "\n",
              "      <script>\n",
              "        const buttonEl =\n",
              "          document.querySelector('#df-f8b38e66-e41a-48e4-a4c1-51dc79f1235d button.colab-df-convert');\n",
              "        buttonEl.style.display =\n",
              "          google.colab.kernel.accessAllowed ? 'block' : 'none';\n",
              "\n",
              "        async function convertToInteractive(key) {\n",
              "          const element = document.querySelector('#df-f8b38e66-e41a-48e4-a4c1-51dc79f1235d');\n",
              "          const dataTable =\n",
              "            await google.colab.kernel.invokeFunction('convertToInteractive',\n",
              "                                                     [key], {});\n",
              "          if (!dataTable) return;\n",
              "\n",
              "          const docLinkHtml = 'Like what you see? Visit the ' +\n",
              "            '<a target=\"_blank\" href=https://colab.research.google.com/notebooks/data_table.ipynb>data table notebook</a>'\n",
              "            + ' to learn more about interactive tables.';\n",
              "          element.innerHTML = '';\n",
              "          dataTable['output_type'] = 'display_data';\n",
              "          await google.colab.output.renderOutput(dataTable, element);\n",
              "          const docLink = document.createElement('div');\n",
              "          docLink.innerHTML = docLinkHtml;\n",
              "          element.appendChild(docLink);\n",
              "        }\n",
              "      </script>\n",
              "    </div>\n",
              "  </div>\n",
              "  "
            ],
            "text/plain": [
              "   montant        V1        V2        V3        V4        V5        V6        V7         V8        V9       V10       V11       V12       V13       V14       V15       V16       V17       V18       V19       V20       V21       V22       V23       V24       V25       V26       V27       V28\n",
              "0    11.74 -0.160291  0.719554 -0.175820  0.092895  1.921963 -0.959215  1.575203  -0.475203 -1.056475  0.018977  0.668056  0.623444  0.250816  0.578553 -0.910825 -0.265297 -0.996237  0.145621 -0.253985 -0.005258  0.211840  0.694953 -0.344278 -0.387714  0.379300 -0.562998 -0.141264 -0.193787\n",
              "1     0.76 -4.985269  5.034234 -2.823307  2.391830  0.785421  2.062412 -4.029547 -12.755012 -2.319156  0.707228 -1.577851  1.128587  0.137280  1.869368 -1.567146  1.033760 -0.184925 -0.504539 -2.458706  1.777009 -2.657041  1.706531  1.288181  0.496029 -0.453828 -0.222623 -1.005641 -0.522457\n",
              "2     2.68  2.031150 -0.200373 -1.206788  0.227156  0.007489 -0.641813 -0.012706  -0.079257  0.467886  0.265772  0.528194  0.458737 -1.057644  0.675252 -0.469253  0.179725 -0.539504 -0.222000  0.494652 -0.277039 -0.265289 -0.713294  0.306200 -0.425340 -0.336949  0.207533 -0.079106 -0.076194\n",
              "3     1.78 -0.182122  0.815268  0.255585 -0.580498  0.530306 -1.078000  0.983743  -0.235750 -0.020917 -0.313036 -0.809413  0.338677  0.354422  0.011465 -0.378042 -0.175447 -0.381779 -0.882839 -0.143792 -0.058797 -0.242450 -0.509106  0.189365 -0.013782 -0.476530  0.134255  0.133186  0.081669\n",
              "4   104.00 -1.936753 -0.935021  0.450311 -0.548420  0.665697 -1.292993  0.073156   0.434151 -2.039832  0.001525  0.286682  0.150162 -0.542061  0.993127 -0.885168 -0.847956 -0.594685  1.544665 -1.370550 -0.134499 -0.331726 -1.470149  0.257444 -0.122364 -0.186145 -0.926443 -0.023222 -0.155817"
            ]
          },
          "metadata": {},
          "execution_count": 146
        }
      ],
      "source": [
        "testset.head()"
      ]
    },
    {
      "cell_type": "code",
      "source": [
        "# Transformation\n",
        "testset_scaled = scaler.transform(testset)\n",
        "\n",
        "# MSE entre predict et train\n",
        "score_testset_scaled = tf.keras.losses.MSE(testset_scaled, autoencoder.predict(testset_scaled))\n",
        "seuil_testset_scaled = np.quantile(score_testset_scaled, 0.995)\n",
        "print(\"Seuil à partir duquel les transactions sont considérées frauduleuses : \", seuil_testset_scaled)"
      ],
      "metadata": {
        "colab": {
          "base_uri": "https://localhost:8080/"
        },
        "id": "FhtJLctnwj0i",
        "outputId": "89a10876-b62e-449e-c606-4607b8ff3800"
      },
      "execution_count": null,
      "outputs": [
        {
          "output_type": "stream",
          "name": "stdout",
          "text": [
            "Seuil à partir duquel les transactions sont considérées frauduleuses :  0.008241983875632134\n"
          ]
        }
      ]
    },
    {
      "cell_type": "code",
      "source": [
        "is_fraude_testset_scaled = score_testset_scaled > seuil_testset_scaled \n",
        "\n",
        "print('Nombre de fraudes détectées par le modèle : ', np.sum(is_fraude_testset_scaled == True))\n",
        "integer_map = map(int, is_fraude_testset_scaled)\n",
        "integer_list = list(integer_map)\n",
        "\n",
        "px = pd.DataFrame(integer_list)\n",
        "\n",
        "# On ajoute les prédictions au Dataframe\n",
        "testset['Prédiction'] = px"
      ],
      "metadata": {
        "colab": {
          "base_uri": "https://localhost:8080/"
        },
        "id": "k2jnv7KL4wS0",
        "outputId": "f75d31cc-44f8-4c0d-b7dd-00a1d71531df"
      },
      "execution_count": null,
      "outputs": [
        {
          "output_type": "stream",
          "name": "stdout",
          "text": [
            "Nombre de fraudes détectées par le modèle :  143\n"
          ]
        }
      ]
    },
    {
      "cell_type": "code",
      "source": [
        "# Suppression du fichier s'il existe déjà\n",
        "!rm -r \"Projet 3 - Fraud detection/RESULTATS/resultats.csv\""
      ],
      "metadata": {
        "id": "lk4erfct-Mkd"
      },
      "execution_count": null,
      "outputs": []
    },
    {
      "cell_type": "code",
      "source": [
        "DATA_PATH_INSERT = path+'/Projet 3 - Fraud detection/RESULTATS/'\n",
        "testset.to_csv(DATA_PATH_INSERT+'resultats.csv')"
      ],
      "metadata": {
        "id": "e1asVRhE6Zbf"
      },
      "execution_count": null,
      "outputs": []
    }
  ],
  "metadata": {
    "colab": {
      "collapsed_sections": [],
      "name": "fraud_detection.ipynb",
      "provenance": []
    },
    "kernelspec": {
      "display_name": "Python 3",
      "language": "python",
      "name": "python3"
    },
    "language_info": {
      "codemirror_mode": {
        "name": "ipython",
        "version": 3
      },
      "file_extension": ".py",
      "mimetype": "text/x-python",
      "name": "python",
      "nbconvert_exporter": "python",
      "pygments_lexer": "ipython3",
      "version": "3.7.9"
    }
  },
  "nbformat": 4,
  "nbformat_minor": 0
}